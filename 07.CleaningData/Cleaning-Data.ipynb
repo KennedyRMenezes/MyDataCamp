{
 "cells": [
  {
   "cell_type": "markdown",
   "metadata": {},
   "source": [
    "## Ride Dataset"
   ]
  },
  {
   "cell_type": "code",
   "execution_count": 44,
   "metadata": {},
   "outputs": [
    {
     "name": "stdout",
     "output_type": "stream",
     "text": [
      "<class 'pandas.core.frame.DataFrame'>\n",
      "Index: 79 entries, 0 to '\n",
      "Data columns (total 12 columns):\n",
      " #   Column           Non-Null Count  Dtype  \n",
      "---  ------           --------------  -----  \n",
      " 0   ride_id          78 non-null     float64\n",
      " 1   duration         78 non-null     float64\n",
      " 2   station_A_id     78 non-null     float64\n",
      " 3   station_A_name   78 non-null     object \n",
      " 4   station_B_id     78 non-null     float64\n",
      " 5   station_B_name   78 non-null     object \n",
      " 6   bike_id          78 non-null     float64\n",
      " 7   user_type        78 non-null     object \n",
      " 8   user_birth_year  78 non-null     float64\n",
      " 9   user_gender      78 non-null     object \n",
      " 10  tire_sizes       78 non-null     float64\n",
      " 11  ride_date        78 non-null     object \n",
      "dtypes: float64(7), object(5)\n",
      "memory usage: 8.0+ KB\n",
      "None\n",
      "count             78\n",
      "unique             2\n",
      "top       Subscriber\n",
      "freq              71\n",
      "Name: user_type, dtype: object\n",
      "count             78\n",
      "unique             2\n",
      "top       Subscriber\n",
      "freq              71\n",
      "Name: user_type_cat, dtype: object\n"
     ]
    }
   ],
   "source": [
    "# Print the information of ride_sharing\n",
    "from asyncore import read\n",
    "import pandas as pd\n",
    "# import numpy as np\n",
    "\n",
    "\n",
    "ride_sharing = pd.read_csv('new_ride', index_col = 0)\n",
    "ride_sharing1 = pd.read_csv('ride_sharing_new.csv', index_col = 0)\n",
    "\n",
    "print(ride_sharing.info())\n",
    "\n",
    "# Print summary statistics of user_type column\n",
    "print(ride_sharing['user_type'].describe())\n",
    "\n",
    "# Convert user_type from integer to category\n",
    "ride_sharing['user_type_cat'] = ride_sharing['user_type'].astype('category')\n",
    "\n",
    "# Write an assert statement confirming the change\n",
    "assert ride_sharing['user_type_cat'].dtype == 'category'\n",
    "\n",
    "# Print new summary statistics \n",
    "print(ride_sharing['user_type_cat'].describe())"
   ]
  },
  {
   "cell_type": "code",
   "execution_count": 45,
   "metadata": {},
   "outputs": [
    {
     "name": "stdout",
     "output_type": "stream",
     "text": [
      "    ride_id  duration  station_A_id  \\\n",
      "'                                     \n",
      "0       0.0      11.0          16.0   \n",
      "1       1.0       8.0           3.0   \n",
      "2       2.0      11.0          15.0   \n",
      "3       3.0       7.0          21.0   \n",
      "4       4.0      11.0          81.0   \n",
      "..      ...       ...           ...   \n",
      "74     71.0      11.0           3.0   \n",
      "75     71.0      11.0           3.0   \n",
      "76     89.0       9.0          15.0   \n",
      "77     89.0       9.0          15.0   \n",
      "'       NaN       NaN           NaN   \n",
      "\n",
      "                                       station_A_name  station_B_id  \\\n",
      "'                                                                     \n",
      "0                             Steuart St at Market St          93.0   \n",
      "1        Powell St BART Station (Market St at 4th St)          93.0   \n",
      "2   San Francisco Ferry Building (Harry Bridges Pl...          67.0   \n",
      "3    Montgomery St BART Station (Market St at 2nd St)          50.0   \n",
      "4                                  Berry St at 4th St          21.0   \n",
      "..                                                ...           ...   \n",
      "74       Powell St BART Station (Market St at 4th St)          44.0   \n",
      "75       Powell St BART Station (Market St at 4th St)          44.0   \n",
      "76  San Francisco Ferry Building (Harry Bridges Pl...          81.0   \n",
      "77  San Francisco Ferry Building (Harry Bridges Pl...          81.0   \n",
      "'                                                 NaN           NaN   \n",
      "\n",
      "                                       station_B_name  bike_id   user_type  \\\n",
      "'                                                                            \n",
      "0                        4th St at Mission Bay Blvd S   5504.0  Subscriber   \n",
      "1                        4th St at Mission Bay Blvd S   2915.0  Subscriber   \n",
      "2   San Francisco Caltrain Station 2  (Townsend St...   5340.0    Customer   \n",
      "3                               2nd St at Townsend St    746.0  Subscriber   \n",
      "4    Montgomery St BART Station (Market St at 2nd St)   5477.0  Subscriber   \n",
      "..                                                ...      ...         ...   \n",
      "74  Civic Center/UN Plaza BART Station (Market St ...   4805.0    Customer   \n",
      "75  Civic Center/UN Plaza BART Station (Market St ...   4805.0    Customer   \n",
      "76                                 Berry St at 4th St   5552.0  Subscriber   \n",
      "77                                 Berry St at 4th St   5552.0  Subscriber   \n",
      "'                                                 NaN      NaN         NaN   \n",
      "\n",
      "    user_birth_year user_gender  tire_sizes   ride_date user_type_cat  \n",
      "'                                                                      \n",
      "0            1988.0        Male        27.0  2018-03-04    Subscriber  \n",
      "1            1988.0        Male        27.0  2017-03-27    Subscriber  \n",
      "2            1988.0        Male        26.0  2019-06-30      Customer  \n",
      "3            1969.0        Male        27.0  2018-11-16    Subscriber  \n",
      "4            1986.0        Male        26.0  2017-11-01    Subscriber  \n",
      "..              ...         ...         ...         ...           ...  \n",
      "74           1997.0        Male        27.0  2018-02-03      Customer  \n",
      "75           1997.0        Male        27.0  2018-02-03      Customer  \n",
      "76           1986.0        Male        26.0  2018-09-09    Subscriber  \n",
      "77           2060.0        Male        26.0  2018-09-09    Subscriber  \n",
      "'               NaN         NaN         NaN         NaN           NaN  \n",
      "\n",
      "[79 rows x 13 columns]\n"
     ]
    }
   ],
   "source": [
    "print(ride_sharing)"
   ]
  },
  {
   "cell_type": "code",
   "execution_count": 46,
   "metadata": {},
   "outputs": [
    {
     "name": "stdout",
     "output_type": "stream",
     "text": [
      "         duration duration_trim  duration_time\n",
      "0      12 minutes           12              12\n",
      "1      24 minutes           24              24\n",
      "2       8 minutes            8               8\n",
      "3       4 minutes            4               4\n",
      "4      11 minutes           11              11\n",
      "...           ...           ...            ...\n",
      "25755  11 minutes           11              11\n",
      "25756  10 minutes           10              10\n",
      "25757  14 minutes           14              14\n",
      "25758  14 minutes           14              14\n",
      "25759  29 minutes           29              29\n",
      "\n",
      "[25760 rows x 3 columns]\n",
      "11.389052795031056\n"
     ]
    }
   ],
   "source": [
    "# Strip duration of minutes\n",
    "ride_sharing1['duration_trim'] = ride_sharing1['duration'].str.strip(\"minutes\")\n",
    "\n",
    "# Convert duration to integer\n",
    "ride_sharing1['duration_time'] = ride_sharing1['duration_trim'].astype('int')\n",
    "\n",
    "# Write an assert statement making sure of conversion\n",
    "assert ride_sharing1['duration_time'].dtype == 'int'\n",
    "\n",
    "# Print formed columns and calculate average ride duration \n",
    "print(ride_sharing1[['duration','duration_trim','duration_time']])\n",
    "print(sum(ride_sharing1['duration_time'])/len(ride_sharing1['duration_time']))\n"
   ]
  },
  {
   "cell_type": "code",
   "execution_count": 47,
   "metadata": {},
   "outputs": [
    {
     "name": "stdout",
     "output_type": "stream",
     "text": [
      "count     78\n",
      "unique     2\n",
      "top       27\n",
      "freq      45\n",
      "Name: tire_sizes, dtype: int64\n"
     ]
    }
   ],
   "source": [
    "# # Convert tire_sizes to integer\n",
    "ride_sharing['tire_sizes'] = ride_sharing['tire_sizes'].round().astype('Int64')\n",
    "\n",
    "# Set all values above 27 to 27\n",
    "ride_sharing.loc[ride_sharing['tire_sizes'] > 27, 'tire_sizes'] = 27\n",
    "\n",
    "# Reconvert tire_sizes back to categorical\n",
    "ride_sharing['tire_sizes'] = ride_sharing['tire_sizes'].astype('category')\n",
    "\n",
    "# Print tire size description\n",
    "print(ride_sharing['tire_sizes'].describe())\n",
    "\n",
    "\n",
    "# count     25760\n",
    "# unique        2\n",
    "# top          27\n",
    "# freq      13274\n",
    "# Name: tire_sizes, dtype: int64\n"
   ]
  },
  {
   "cell_type": "code",
   "execution_count": 48,
   "metadata": {},
   "outputs": [],
   "source": [
    "# # Convert ride_date to date\n",
    "# ride_sharing['ride_dt'] = pd.to_datetime(ride_sharing['ride_date']).dt.date\n",
    "\n",
    "# # Save today's date\n",
    "# today = dt.date.today()\n",
    "\n",
    "# # Set all in the future to today's date\n",
    "# ride_sharing.loc[ride_sharing['ride_dt'] > today, 'ride_dt'] = today\n",
    "\n",
    "# # Print maximum of ride_dt column\n",
    "# print(ride_sharing['ride_dt'].max())"
   ]
  },
  {
   "cell_type": "code",
   "execution_count": 49,
   "metadata": {},
   "outputs": [
    {
     "name": "stdout",
     "output_type": "stream",
     "text": [
      "    ride_id  duration  user_birth_year\n",
      "'                                     \n",
      "22       33        10             1979\n",
      "39       33         2             1979\n",
      "53       55         9             1985\n",
      "65       55         9             1985\n",
      "74       71        11             1997\n",
      "75       71        11             1997\n",
      "76       89         9             1986\n",
      "77       89         9             2060\n"
     ]
    }
   ],
   "source": [
    "ride_sharing['ride_id'] = ride_sharing['ride_id'].round().astype('Int64')\n",
    "ride_sharing['duration'] = ride_sharing['duration'].round().astype('Int64')\n",
    "ride_sharing['user_birth_year'] = ride_sharing['user_birth_year'].round().astype('Int64')\n",
    "\n",
    "# Find duplicates\n",
    "duplicates = ride_sharing.duplicated(subset = ['ride_id'], keep = False)\n",
    "\n",
    "# Sort your duplicated rides\n",
    "duplicated_rides = ride_sharing[duplicates].sort_values(by = 'ride_id')\n",
    "\n",
    "# Print relevant columns of duplicated_rides\n",
    "print(duplicated_rides[['ride_id','duration','user_birth_year']])"
   ]
  },
  {
   "cell_type": "code",
   "execution_count": 50,
   "metadata": {},
   "outputs": [],
   "source": [
    "# Drop complete duplicates from ride_sharing\n",
    "ride_dup = ride_sharing.drop_duplicates()\n",
    "\n",
    "# Create statistics dictionary for aggregation function\n",
    "statistics = {'user_birth_year': 'min', 'duration': 'mean'}\n",
    "\n",
    "# Group by ride_id and compute new statistics\n",
    "ride_unique = ride_dup.groupby('ride_id').agg(statistics).reset_index()\n",
    "\n",
    "# Find duplicated values again\n",
    "duplicates = ride_unique.duplicated(subset = 'ride_id', keep = False)\n",
    "duplicated_rides = ride_unique[duplicates == True]\n",
    "\n",
    "# Assert duplicates are processed\n",
    "assert duplicated_rides.shape[0] == 0"
   ]
  },
  {
   "cell_type": "markdown",
   "metadata": {},
   "source": [
    "## Airline Dataset"
   ]
  },
  {
   "cell_type": "code",
   "execution_count": 51,
   "metadata": {},
   "outputs": [
    {
     "name": "stdout",
     "output_type": "stream",
     "text": [
      "        id        day        airline        destination    dest_region  \\\n",
      "0     1351    Tuesday    UNITED INTL             KANSAI           Asia   \n",
      "1      373     Friday         ALASKA  SAN JOSE DEL CABO  Canada/Mexico   \n",
      "2     2820   Thursday          DELTA        LOS ANGELES        West US   \n",
      "3     1157    Tuesday      SOUTHWEST        LOS ANGELES        West US   \n",
      "4     2992  Wednesday       AMERICAN              MIAMI        East US   \n",
      "...    ...        ...            ...                ...            ...   \n",
      "2804  1475    Tuesday         ALASKA       NEW YORK-JFK        East US   \n",
      "2805  2222   Thursday      SOUTHWEST            PHOENIX        West US   \n",
      "2806  2684     Friday         UNITED            ORLANDO        East US   \n",
      "2807  2549    Tuesday        JETBLUE         LONG BEACH        West US   \n",
      "2808  2162   Saturday  CHINA EASTERN            QINGDAO           Asia   \n",
      "\n",
      "     dest_size boarding_area   dept_time  wait_min     cleanliness  \\\n",
      "0          Hub  Gates 91-102  2018-12-31     115.0           Clean   \n",
      "1        Small   Gates 50-59  2018-12-31     135.0           Clean   \n",
      "2          Hub   Gates 40-48  2018-12-31      70.0         Average   \n",
      "3          Hub   Gates 20-39  2018-12-31     190.0           Clean   \n",
      "4          Hub   Gates 50-59  2018-12-31     559.0  Somewhat clean   \n",
      "...        ...           ...         ...       ...             ...   \n",
      "2804       Hub   Gates 50-59  2018-12-31     280.0  Somewhat clean   \n",
      "2805       Hub   Gates 20-39  2018-12-31     165.0           Clean   \n",
      "2806       Hub   Gates 70-90  2018-12-31      92.0           Clean   \n",
      "2807     Small    Gates 1-12  2018-12-31      95.0           Clean   \n",
      "2808     Large    Gates 1-12  2018-12-31     220.0           Clean   \n",
      "\n",
      "             safety        satisfaction  \n",
      "0           Neutral      Very satisfied  \n",
      "1         Very safe      Very satisfied  \n",
      "2     Somewhat safe             Neutral  \n",
      "3         Very safe  Somewhat satsified  \n",
      "4         Very safe  Somewhat satsified  \n",
      "...             ...                 ...  \n",
      "2804        Neutral  Somewhat satsified  \n",
      "2805      Very safe      Very satisfied  \n",
      "2806      Very safe      Very satisfied  \n",
      "2807  Somewhat safe      Very satisfied  \n",
      "2808      Very safe  Somewhat satsified  \n",
      "\n",
      "[2477 rows x 12 columns]\n"
     ]
    }
   ],
   "source": [
    "airlines = pd.read_csv(\"airlines_final.csv\", index_col=0)\n",
    "print(airlines)"
   ]
  },
  {
   "cell_type": "code",
   "execution_count": 52,
   "metadata": {},
   "outputs": [
    {
     "name": "stdout",
     "output_type": "stream",
     "text": [
      "        id        day        airline        destination    dest_region  \\\n",
      "0     1351    Tuesday    UNITED INTL             KANSAI           Asia   \n",
      "1      373     Friday         ALASKA  SAN JOSE DEL CABO  Canada/Mexico   \n",
      "2     2820   Thursday          DELTA        LOS ANGELES        West US   \n",
      "3     1157    Tuesday      SOUTHWEST        LOS ANGELES        West US   \n",
      "4     2992  Wednesday       AMERICAN              MIAMI        East US   \n",
      "...    ...        ...            ...                ...            ...   \n",
      "2804  1475    Tuesday         ALASKA       NEW YORK-JFK        East US   \n",
      "2805  2222   Thursday      SOUTHWEST            PHOENIX        West US   \n",
      "2806  2684     Friday         UNITED            ORLANDO        East US   \n",
      "2807  2549    Tuesday        JETBLUE         LONG BEACH        West US   \n",
      "2808  2162   Saturday  CHINA EASTERN            QINGDAO           Asia   \n",
      "\n",
      "     dest_size boarding_area   dept_time  wait_min     cleanliness  \\\n",
      "0          Hub  Gates 91-102  2018-12-31     115.0           Clean   \n",
      "1        Small   Gates 50-59  2018-12-31     135.0           Clean   \n",
      "2          Hub   Gates 40-48  2018-12-31      70.0         Average   \n",
      "3          Hub   Gates 20-39  2018-12-31     190.0           Clean   \n",
      "4          Hub   Gates 50-59  2018-12-31     559.0    Unacceptable   \n",
      "...        ...           ...         ...       ...             ...   \n",
      "2804       Hub   Gates 50-59  2018-12-31     280.0  Somewhat clean   \n",
      "2805       Hub   Gates 20-39  2018-12-31     165.0           Clean   \n",
      "2806       Hub   Gates 70-90  2018-12-31      92.0           Clean   \n",
      "2807     Small    Gates 1-12  2018-12-31      95.0           Clean   \n",
      "2808     Large    Gates 1-12  2018-12-31     220.0           Clean   \n",
      "\n",
      "             safety        satisfaction  \n",
      "0           Neutral      Very satisfied  \n",
      "1         Very safe      Very satisfied  \n",
      "2     Somewhat safe             Neutral  \n",
      "3         Very safe  Somewhat satisfied  \n",
      "4         Very safe  Somewhat satisfied  \n",
      "...             ...                 ...  \n",
      "2804        Neutral  Somewhat satisfied  \n",
      "2805      Very safe      Very satisfied  \n",
      "2806      Very safe      Very satisfied  \n",
      "2807  Somewhat safe      Very satisfied  \n",
      "2808      Very safe  Somewhat satisfied  \n",
      "\n",
      "[2477 rows x 12 columns]\n"
     ]
    }
   ],
   "source": [
    "airlines1 = pd.read_csv(\"new_arlines.csv\", index_col=0)\n",
    "print(airlines1)"
   ]
  },
  {
   "cell_type": "code",
   "execution_count": 53,
   "metadata": {},
   "outputs": [
    {
     "name": "stdout",
     "output_type": "stream",
     "text": [
      "      cleanliness           safety          satisfaction\n",
      "0           Clean          Neutral        Very satisfied\n",
      "1         Average        Very safe               Neutral\n",
      "2  Somewhat clean    Somewhat safe    Somewhat satisfied\n",
      "3  Somewhat dirty      Very unsafe  Somewhat unsatisfied\n",
      "4           Dirty  Somewhat unsafe      Very unsatisfied\n",
      "Cleanliness:  ['Clean' 'Average' 'Somewhat clean' 'Somewhat dirty' 'Dirty'] \n",
      "\n",
      "Safety:  ['Neutral' 'Very safe' 'Somewhat safe' 'Very unsafe' 'Somewhat unsafe'] \n",
      "\n",
      "Satisfaction:  ['Very satisfied' 'Neutral' 'Somewhat satsified' 'Somewhat unsatisfied'\n",
      " 'Very unsatisfied'] \n",
      "\n",
      "# Question: Take a look at the output. Out of the cleanliness, safety and satisfaction columns, which one has an inconsistent category and what is it?\n",
      "--> cleanliness because it has an Unacceptable category.\n"
     ]
    }
   ],
   "source": [
    "categories = pd.read_csv(\"categories.csv\", index_col=0)\n",
    "\n",
    "# Print categories DataFrame\n",
    "print(categories)\n",
    "\n",
    "# Print unique values of survey columns in airlines\n",
    "print('Cleanliness: ', airlines['cleanliness'].unique(), \"\\n\")\n",
    "print('Safety: ', airlines['safety'].unique(), \"\\n\")\n",
    "print('Satisfaction: ', airlines['satisfaction'].unique(), \"\\n\")\n",
    "\n",
    "print(\"# Question: Take a look at the output. Out of the cleanliness, safety and satisfaction columns, which one has an inconsistent category and what is it?\\n--> cleanliness because it has an Unacceptable category.\")"
   ]
  },
  {
   "cell_type": "code",
   "execution_count": 54,
   "metadata": {},
   "outputs": [
    {
     "name": "stdout",
     "output_type": "stream",
     "text": [
      "       id        day           airline  destination  dest_region dest_size  \\\n",
      "4    2992  Wednesday          AMERICAN        MIAMI      East US       Hub   \n",
      "18   2913     Friday  TURKISH AIRLINES     ISTANBUL  Middle East       Hub   \n",
      "100  2321  Wednesday         SOUTHWEST  LOS ANGELES      West US       Hub   \n",
      "\n",
      "    boarding_area   dept_time  wait_min   cleanliness         safety  \\\n",
      "4     Gates 50-59  2018-12-31     559.0  Unacceptable      Very safe   \n",
      "18   Gates 91-102  2018-12-31     225.0  Unacceptable      Very safe   \n",
      "100   Gates 20-39  2018-12-31     130.0  Unacceptable  Somewhat safe   \n",
      "\n",
      "           satisfaction  \n",
      "4    Somewhat satisfied  \n",
      "18   Somewhat satisfied  \n",
      "100  Somewhat satisfied  \n"
     ]
    }
   ],
   "source": [
    "# Find the cleanliness category in airlines not in categories\n",
    "cat_clean = set(airlines1['cleanliness']).difference(categories['cleanliness'])\n",
    "\n",
    "# Find rows with that category\n",
    "cat_clean_rows = airlines1['cleanliness'].isin(cat_clean)\n",
    "\n",
    "# Print rows with inconsistent category\n",
    "print(airlines1[cat_clean_rows])"
   ]
  },
  {
   "cell_type": "code",
   "execution_count": 55,
   "metadata": {},
   "outputs": [
    {
     "name": "stdout",
     "output_type": "stream",
     "text": [
      "        id       day        airline        destination    dest_region  \\\n",
      "0     1351   Tuesday    UNITED INTL             KANSAI           Asia   \n",
      "1      373    Friday         ALASKA  SAN JOSE DEL CABO  Canada/Mexico   \n",
      "2     2820  Thursday          DELTA        LOS ANGELES        West US   \n",
      "3     1157   Tuesday      SOUTHWEST        LOS ANGELES        West US   \n",
      "5      634  Thursday         ALASKA             NEWARK        East US   \n",
      "...    ...       ...            ...                ...            ...   \n",
      "2804  1475   Tuesday         ALASKA       NEW YORK-JFK        East US   \n",
      "2805  2222  Thursday      SOUTHWEST            PHOENIX        West US   \n",
      "2806  2684    Friday         UNITED            ORLANDO        East US   \n",
      "2807  2549   Tuesday        JETBLUE         LONG BEACH        West US   \n",
      "2808  2162  Saturday  CHINA EASTERN            QINGDAO           Asia   \n",
      "\n",
      "     dest_size boarding_area   dept_time  wait_min     cleanliness  \\\n",
      "0          Hub  Gates 91-102  2018-12-31     115.0           Clean   \n",
      "1        Small   Gates 50-59  2018-12-31     135.0           Clean   \n",
      "2          Hub   Gates 40-48  2018-12-31      70.0         Average   \n",
      "3          Hub   Gates 20-39  2018-12-31     190.0           Clean   \n",
      "5          Hub   Gates 50-59  2018-12-31     140.0  Somewhat clean   \n",
      "...        ...           ...         ...       ...             ...   \n",
      "2804       Hub   Gates 50-59  2018-12-31     280.0  Somewhat clean   \n",
      "2805       Hub   Gates 20-39  2018-12-31     165.0           Clean   \n",
      "2806       Hub   Gates 70-90  2018-12-31      92.0           Clean   \n",
      "2807     Small    Gates 1-12  2018-12-31      95.0           Clean   \n",
      "2808     Large    Gates 1-12  2018-12-31     220.0           Clean   \n",
      "\n",
      "             safety        satisfaction  \n",
      "0           Neutral      Very satisfied  \n",
      "1         Very safe      Very satisfied  \n",
      "2     Somewhat safe             Neutral  \n",
      "3         Very safe  Somewhat satsified  \n",
      "5         Very safe      Very satisfied  \n",
      "...             ...                 ...  \n",
      "2804        Neutral  Somewhat satsified  \n",
      "2805      Very safe      Very satisfied  \n",
      "2806      Very safe      Very satisfied  \n",
      "2807  Somewhat safe      Very satisfied  \n",
      "2808      Very safe  Somewhat satsified  \n",
      "\n",
      "[2474 rows x 12 columns]\n"
     ]
    }
   ],
   "source": [
    "# Print rows with consistent categories only\n",
    "print(airlines[~cat_clean_rows])"
   ]
  },
  {
   "cell_type": "code",
   "execution_count": 56,
   "metadata": {},
   "outputs": [
    {
     "name": "stdout",
     "output_type": "stream",
     "text": [
      "['Asia' 'Canada/Mexico' 'West US' 'East US' 'Midwest US' 'EAST US'\n",
      " 'Middle East' 'Europe' 'eur' 'Central/South America'\n",
      " 'Australia/New Zealand' 'middle east']\n",
      "['Hub' 'Small' '    Hub' 'Medium' 'Large' 'Hub     ' '    Small'\n",
      " 'Medium     ' '    Medium' 'Small     ' '    Large' 'Large     ']\n"
     ]
    }
   ],
   "source": [
    "# Print unique values of both columns\n",
    "print(airlines['dest_region'].unique())\n",
    "print(airlines['dest_size'].unique())\n",
    "\n",
    "# ['Asia' 'Canada/Mexico' 'West US' 'East US' 'Midwest US' 'EAST US'\n",
    "#  'Middle East' 'Europe' 'eur' 'Central/South America'\n",
    "#  'Australia/New Zealand' 'middle east']\n",
    "# ['Hub' 'Small' '    Hub' 'Medium' 'Large' 'Hub     ' '    Small'\n",
    "#  'Medium     ' '    Medium' 'Small     ' '    Large' 'Large     ']"
   ]
  },
  {
   "cell_type": "code",
   "execution_count": 57,
   "metadata": {},
   "outputs": [
    {
     "name": "stdout",
     "output_type": "stream",
     "text": [
      "# Question: From looking at the output, what do you think is the problem with these columns?\n",
      "--> The dest_region column has inconsistent values due to capitalization and has one value that needs to be remapped and dest_size column has only inconsistent values due to leading and trailing spaces.\n"
     ]
    }
   ],
   "source": [
    "print(\"# Question: From looking at the output, what do you think is the problem with these columns?\\n--> The dest_region column has inconsistent values due to capitalization and has one value that needs to be remapped and dest_size column has only inconsistent values due to leading and trailing spaces.\")"
   ]
  },
  {
   "cell_type": "code",
   "execution_count": 58,
   "metadata": {},
   "outputs": [
    {
     "name": "stdout",
     "output_type": "stream",
     "text": [
      "['Asia' 'Canada/Mexico' 'West US' 'East US' 'Midwest US' 'EAST US'\n",
      " 'Middle East' 'Europe' 'eur' 'Central/South America'\n",
      " 'Australia/New Zealand' 'middle east']\n",
      "['Hub' 'Small' '    Hub' 'Medium' 'Large' 'Hub     ' '    Small'\n",
      " 'Medium     ' '    Medium' 'Small     ' '    Large' 'Large     ']\n",
      "\n",
      "*****************************************\n",
      "\n",
      "['asia' 'canada/mexico' 'west us' 'east us' 'midwest us' 'middle east'\n",
      " 'europe' 'central/south america' 'australia/new zealand']\n",
      "['Hub' 'Small' 'Medium' 'Large']\n"
     ]
    }
   ],
   "source": [
    "# Print unique values of both columns\n",
    "print(airlines['dest_region'].unique())\n",
    "print(airlines['dest_size'].unique())\n",
    "\n",
    "# ['Asia' 'Canada/Mexico' 'West US' 'East US' 'Midwest US' 'EAST US'\n",
    "#  'Middle East' 'Europe' 'eur' 'Central/South America'\n",
    "#  'Australia/New Zealand' 'middle east']\n",
    "# ['Hub' 'Small' '    Hub' 'Medium' 'Large' 'Hub     ' '    Small'\n",
    "#  'Medium     ' '    Medium' 'Small     ' '    Large' 'Large     ']\n",
    "\n",
    "# Lower dest_region column and then replace \"eur\" with \"europe\"\n",
    "airlines['dest_region'] = airlines['dest_region'].str.lower() \n",
    "airlines['dest_region'] = airlines['dest_region'].replace({'eur':'europe'})\n",
    "\n",
    "# Remove white spaces from `dest_size`\n",
    "airlines['dest_size'] = airlines['dest_size'].str.strip()\n",
    "\n",
    "# Verify changes have been effected\n",
    "print(\"\\n*****************************************\\n\")\n",
    "print(airlines['dest_region'].unique())\n",
    "print(airlines['dest_size'].unique())"
   ]
  },
  {
   "cell_type": "code",
   "execution_count": 59,
   "metadata": {},
   "outputs": [],
   "source": [
    "import numpy as np\n",
    "\n",
    "# Create ranges for categories\n",
    "label_ranges = [0, 60, 180, np.inf]\n",
    "label_names = ['short', 'medium', 'long']\n",
    "\n",
    "# Create wait_type column\n",
    "airlines['wait_type'] = pd.cut(airlines['wait_min'], bins = label_ranges, \n",
    "                                labels = label_names)\n",
    "\n",
    "# Create mappings and replace\n",
    "mappings = {'Monday':'weekday', 'Tuesday':'weekday', 'Wednesday':'weekday', \n",
    "            'Thursday':'weekday', 'Friday': 'weekday', \n",
    "            'Saturday': 'weekend', 'Sunday': 'weekend'}\n",
    "\n",
    "airlines['day_week'] = airlines['day'].replace(mappings)"
   ]
  },
  {
   "cell_type": "code",
   "execution_count": 60,
   "metadata": {},
   "outputs": [],
   "source": [
    "full_name = pd.read_csv(\"full_name.csv\", index_col=0)\n",
    "airlines['full_name'] = full_name"
   ]
  },
  {
   "cell_type": "code",
   "execution_count": 61,
   "metadata": {},
   "outputs": [
    {
     "name": "stderr",
     "output_type": "stream",
     "text": [
      "/tmp/ipykernel_162642/3304348909.py:2: FutureWarning: The default value of regex will change from True to False in a future version.\n",
      "  airlines['full_name'] = airlines['full_name'].str.replace(\"Dr.\",\"\")\n",
      "/tmp/ipykernel_162642/3304348909.py:5: FutureWarning: The default value of regex will change from True to False in a future version.\n",
      "  airlines['full_name'] = airlines['full_name'].str.replace(\"Mr.\",\"\")\n",
      "/tmp/ipykernel_162642/3304348909.py:11: FutureWarning: The default value of regex will change from True to False in a future version.\n",
      "  airlines['full_name'] = airlines['full_name'].str.replace(\"Ms.\",\"\")\n"
     ]
    }
   ],
   "source": [
    "# Replace \"Dr.\" with empty string \"\"\n",
    "airlines['full_name'] = airlines['full_name'].str.replace(\"Dr.\",\"\")\n",
    "\n",
    "# Replace \"Mr.\" with empty string \"\"\n",
    "airlines['full_name'] = airlines['full_name'].str.replace(\"Mr.\",\"\")\n",
    "\n",
    "# Replace \"Miss\" with empty string \"\"\n",
    "airlines['full_name'] = airlines['full_name'].str.replace(\"Miss\",\"\")\n",
    "\n",
    "# Replace \"Ms.\" with empty string \"\"\n",
    "airlines['full_name'] = airlines['full_name'].str.replace(\"Ms.\",\"\")\n",
    "\n",
    "# Assert that full_name has no honorifics\n",
    "assert airlines['full_name'].str.contains('Ms.|Mr.|Miss|Dr.').any() == False"
   ]
  },
  {
   "cell_type": "code",
   "execution_count": 62,
   "metadata": {},
   "outputs": [
    {
     "name": "stdout",
     "output_type": "stream",
     "text": [
      "0             Melodie Stuart\n",
      "1            Dominic Shannon\n",
      "2          Quintessa Tillman\n",
      "3        Christine Nicholson\n",
      "4            Regina Clements\n",
      "                ...         \n",
      "2804                     NaN\n",
      "2805                     NaN\n",
      "2806                     NaN\n",
      "2807                     NaN\n",
      "2808                     NaN\n",
      "Name: full_name, Length: 2477, dtype: object\n"
     ]
    }
   ],
   "source": [
    "print(airlines['full_name'])"
   ]
  },
  {
   "cell_type": "code",
   "execution_count": 63,
   "metadata": {},
   "outputs": [],
   "source": [
    "survey_response = pd.read_csv(\"survey_response.csv\", index_col=0)\n",
    "airlines['survey_response'] = survey_response"
   ]
  },
  {
   "cell_type": "code",
   "execution_count": 64,
   "metadata": {},
   "outputs": [
    {
     "name": "stdout",
     "output_type": "stream",
     "text": [
      "18    The airport personnell forgot to alert us of d...\n",
      "19    The food in the airport was really really expe...\n",
      "20    One of the other travelers was really loud and...\n",
      "21    I don\\'t remember answering the survey with th...\n",
      "22    The airport personnel kept ignoring my request...\n",
      "23    The chair I sat in was extremely uncomfortable...\n",
      "24    I wish you were more like other airports, the ...\n",
      "25    I was really unsatisfied with the wait times b...\n",
      "27    The flight was okay, but I didn\\'t really like...\n",
      "28    We were really slowed down by security measure...\n",
      "29    There was a spill on the aisle next to the bat...\n",
      "30    I felt very unsatisfied by how long the flight...\n",
      "Name: survey_response, dtype: object\n"
     ]
    }
   ],
   "source": [
    "# Store length of each row in survey_response column\n",
    "resp_length = airlines['survey_response'].str.len()\n",
    "\n",
    "# Find rows in airlines where resp_length > 40\n",
    "airlines_survey = airlines[resp_length > 40]\n",
    "\n",
    "# Assert minimum survey_response length is > 40\n",
    "assert airlines_survey['survey_response'].str.len().min() > 40\n",
    "\n",
    "# Print new survey_response column\n",
    "print(airlines_survey['survey_response'])\n"
   ]
  },
  {
   "cell_type": "markdown",
   "metadata": {},
   "source": [
    "## Banking Dataset"
   ]
  },
  {
   "cell_type": "code",
   "execution_count": 65,
   "metadata": {},
   "outputs": [
    {
     "name": "stdout",
     "output_type": "stream",
     "text": [
      "     cust_id  acct_amount acct_cur  inv_amount account_opened last_transaction\n",
      "0   8C35540A     44244.71   dollar    35500.50       03-05-18         30-09-19\n",
      "1   D5536652     86506.85   dollar    81921.86       21-01-18         14-01-19\n",
      "2   A631984D     77799.33   dollar    46412.27       26-01-18         06-10-19\n",
      "3   93F2F951     93875.24     euro    76563.35       21-08-17         10-07-19\n",
      "4   DE0A0882     99998.35     euro    18669.01       05-06-17         15-01-19\n",
      "..       ...          ...      ...         ...            ...              ...\n",
      "92  CEC1CAE5     92169.14   dollar    77896.86       26-11-17         08-10-18\n",
      "93  4C7F8638     21942.37   dollar    11715.24       14-07-18         02-02-19\n",
      "94  A81D31B3     74010.15   dollar    48787.47       02-06-18         12-09-18\n",
      "95  93A17007     40651.36   dollar     9387.87       28-05-17         08-03-19\n",
      "96  E961CA44     27907.16   dollar    10967.69       23-10-17         11-07-19\n",
      "\n",
      "[97 rows x 6 columns]\n"
     ]
    }
   ],
   "source": [
    "banking = pd.read_csv(\"banking.csv\", index_col=0)\n",
    "print(banking)"
   ]
  },
  {
   "cell_type": "code",
   "execution_count": 66,
   "metadata": {},
   "outputs": [],
   "source": [
    "# Find values of acct_cur that are equal to 'euro'\n",
    "acct_eu = banking['acct_cur'] == 'euro'\n",
    "\n",
    "# Convert acct_amount where it is in euro to dollars\n",
    "banking.loc[acct_eu, 'acct_amount'] = banking.loc[acct_eu, 'acct_amount'] * 1.1 \n",
    "\n",
    "# Unify acct_cur column by changing 'euro' values to 'dollar'\n",
    "banking.loc[acct_eu, 'acct_cur'] = 'dollar'\n",
    "\n",
    "# Assert that only dollar currency remains\n",
    "assert banking['acct_cur'].unique() == 'dollar'"
   ]
  },
  {
   "cell_type": "code",
   "execution_count": 67,
   "metadata": {},
   "outputs": [
    {
     "name": "stdout",
     "output_type": "stream",
     "text": [
      "0    03-05-18\n",
      "1    21-01-18\n",
      "2    26-01-18\n",
      "3    21-08-17\n",
      "4    05-06-17\n",
      "Name: account_opened, dtype: object\n"
     ]
    }
   ],
   "source": [
    "# Print the header of account_opened\n",
    "print(banking['account_opened'].head())\n",
    "\n",
    "\n",
    "#Datacamp output:\n",
    "\n",
    "# <script.py> output:\n",
    "#     0          2018-03-05\n",
    "#     1            21-01-18\n",
    "#     2    January 26, 2018\n",
    "#     3            21-14-17\n",
    "#     4            05-06-17\n",
    "#     Name: account_opened, dtype: object"
   ]
  },
  {
   "cell_type": "code",
   "execution_count": 68,
   "metadata": {},
   "outputs": [
    {
     "name": "stdout",
     "output_type": "stream",
     "text": [
      "# Question: Take a look at the output. You tried converting the values to datetime using the default to_datetime() function without changing any argument, however received the following error: ValueError: month must be in 1..12\n",
      "\n",
      "Why do you think that is?\n",
      "---> The 21-14-17 entry is erroneous and leads to an error.\n"
     ]
    }
   ],
   "source": [
    "print(\"# Question: Take a look at the output. You tried converting the values to datetime using the default to_datetime() function without changing any argument, however received the following error: ValueError: month must be in 1..12\\n\")\n",
    "print(\"Why do you think that is?\\n---> The 21-14-17 entry is erroneous and leads to an error.\")"
   ]
  },
  {
   "cell_type": "code",
   "execution_count": 69,
   "metadata": {},
   "outputs": [],
   "source": [
    "# Convert account_opened to datetime\n",
    "banking['account_opened'] = pd.to_datetime(banking['account_opened'],\n",
    "                                           # Infer datetime format\n",
    "                                           infer_datetime_format = True,\n",
    "                                           # Return missing value for error\n",
    "                                           errors = 'coerce')"
   ]
  },
  {
   "cell_type": "code",
   "execution_count": 70,
   "metadata": {},
   "outputs": [
    {
     "name": "stdout",
     "output_type": "stream",
     "text": [
      "0     2018\n",
      "1     2018\n",
      "2     2018\n",
      "3     2017\n",
      "4     2017\n",
      "      ... \n",
      "92    2017\n",
      "93    2018\n",
      "94    2018\n",
      "95    2017\n",
      "96    2017\n",
      "Name: acct_year, Length: 97, dtype: object\n"
     ]
    }
   ],
   "source": [
    "# Get year of account opened\n",
    "banking['acct_year'] = banking['account_opened'].dt.strftime('%Y')\n",
    "\n",
    "# Print acct_year\n",
    "print(banking['acct_year'])"
   ]
  },
  {
   "cell_type": "code",
   "execution_count": 71,
   "metadata": {},
   "outputs": [
    {
     "name": "stdout",
     "output_type": "stream",
     "text": [
      "     cust_id  acct_amount acct_cur  inv_amount account_opened  \\\n",
      "0   8C35540A    44244.710   dollar    35500.50     2018-03-05   \n",
      "1   D5536652    86506.850   dollar    81921.86     2018-01-21   \n",
      "2   A631984D    77799.330   dollar    46412.27     2018-01-26   \n",
      "3   93F2F951   103262.764   dollar    76563.35     2017-08-21   \n",
      "4   DE0A0882   109998.185   dollar    18669.01     2017-05-06   \n",
      "..       ...          ...      ...         ...            ...   \n",
      "92  CEC1CAE5    92169.140   dollar    77896.86     2017-11-26   \n",
      "93  4C7F8638    21942.370   dollar    11715.24     2018-07-14   \n",
      "94  A81D31B3    74010.150   dollar    48787.47     2018-02-06   \n",
      "95  93A17007    40651.360   dollar     9387.87     2017-05-28   \n",
      "96  E961CA44    27907.160   dollar    10967.69     2017-10-23   \n",
      "\n",
      "   last_transaction acct_year  age  \n",
      "0          30-09-19      2018   60  \n",
      "1          14-01-19      2018   60  \n",
      "2          06-10-19      2018   32  \n",
      "3          10-07-19      2017   37  \n",
      "4          15-01-19      2017   38  \n",
      "..              ...       ...  ...  \n",
      "92         08-10-18      2017   32  \n",
      "93         02-02-19      2018   59  \n",
      "94         12-09-18      2018   61  \n",
      "95         08-03-19      2017   48  \n",
      "96         11-07-19      2017   33  \n",
      "\n",
      "[97 rows x 8 columns]\n"
     ]
    }
   ],
   "source": [
    "age = pd.read_csv(\"age.csv\", index_col=0)\n",
    "banking['age'] = age\n",
    "print(banking)"
   ]
  },
  {
   "cell_type": "code",
   "execution_count": 72,
   "metadata": {},
   "outputs": [
    {
     "name": "stdout",
     "output_type": "stream",
     "text": [
      "     cust_id  acct_amount acct_cur  inv_amount account_opened  \\\n",
      "0   8C35540A    44244.710   dollar    35500.50     2018-03-05   \n",
      "1   D5536652    86506.850   dollar    81921.86     2018-01-21   \n",
      "2   A631984D    77799.330   dollar    46412.27     2018-01-26   \n",
      "3   93F2F951   103262.764   dollar    76563.35     2017-08-21   \n",
      "4   DE0A0882   109998.185   dollar    18669.01     2017-05-06   \n",
      "..       ...          ...      ...         ...            ...   \n",
      "92  CEC1CAE5    92169.140   dollar    77896.86     2017-11-26   \n",
      "93  4C7F8638    21942.370   dollar    11715.24     2018-07-14   \n",
      "94  A81D31B3    74010.150   dollar    48787.47     2018-02-06   \n",
      "95  93A17007    40651.360   dollar     9387.87     2017-05-28   \n",
      "96  E961CA44    27907.160   dollar    10967.69     2017-10-23   \n",
      "\n",
      "   last_transaction acct_year  age  \n",
      "0          30-09-19      2018   60  \n",
      "1          14-01-19      2018   60  \n",
      "2          06-10-19      2018   32  \n",
      "3          10-07-19      2017   37  \n",
      "4          15-01-19      2017   38  \n",
      "..              ...       ...  ...  \n",
      "92         08-10-18      2017   32  \n",
      "93         02-02-19      2018   59  \n",
      "94         12-09-18      2018   61  \n",
      "95         08-03-19      2017   48  \n",
      "96         11-07-19      2017   33  \n",
      "\n",
      "[97 rows x 8 columns]\n"
     ]
    }
   ],
   "source": [
    "age = pd.read_csv(\"age.csv\", index_col=0)\n",
    "banking['age'] = age\n",
    "print(banking)"
   ]
  },
  {
   "cell_type": "code",
   "execution_count": 73,
   "metadata": {},
   "outputs": [
    {
     "name": "stdout",
     "output_type": "stream",
     "text": [
      "     cust_id  acct_amount acct_cur  inv_amount account_opened  \\\n",
      "0   8C35540A    44244.710   dollar    35500.50     2018-03-05   \n",
      "1   D5536652    86506.850   dollar    81921.86     2018-01-21   \n",
      "2   A631984D    77799.330   dollar    46412.27     2018-01-26   \n",
      "3   93F2F951   103262.764   dollar    76563.35     2017-08-21   \n",
      "4   DE0A0882   109998.185   dollar    18669.01     2017-05-06   \n",
      "..       ...          ...      ...         ...            ...   \n",
      "92  CEC1CAE5    92169.140   dollar    77896.86     2017-11-26   \n",
      "93  4C7F8638    21942.370   dollar    11715.24     2018-07-14   \n",
      "94  A81D31B3    74010.150   dollar    48787.47     2018-02-06   \n",
      "95  93A17007    40651.360   dollar     9387.87     2017-05-28   \n",
      "96  E961CA44    27907.160   dollar    10967.69     2017-10-23   \n",
      "\n",
      "   last_transaction acct_year  age  birth_date  \n",
      "0          30-09-19      2018   60  1962-06-09  \n",
      "1          14-01-19      2018   60  1962-12-16  \n",
      "2          06-10-19      2018   32  1990-09-12  \n",
      "3          10-07-19      2017   37  1985-11-03  \n",
      "4          15-01-19      2017   38  1990-05-17  \n",
      "..              ...       ...  ...         ...  \n",
      "92         08-10-18      2017   32  1990-09-20  \n",
      "93         02-02-19      2018   59  1963-08-26  \n",
      "94         12-09-18      2018   61  1961-06-03  \n",
      "95         08-03-19      2017   48  1974-08-10  \n",
      "96         11-07-19      2017   33  1989-12-12  \n",
      "\n",
      "[97 rows x 9 columns]\n"
     ]
    }
   ],
   "source": [
    "birth_date = pd.read_csv(\"birth_date.csv\", index_col=0)\n",
    "banking['birth_date'] = birth_date\n",
    "print(banking)"
   ]
  },
  {
   "cell_type": "code",
   "execution_count": 75,
   "metadata": {},
   "outputs": [],
   "source": [
    "# import datetime as dt\n",
    "\n",
    "# # Store today's date and find ages\n",
    "# today = dt.date.today()\n",
    "# ages_manual = today.year - banking['birth_date'].dt.year\n",
    "\n",
    "# # Find rows where age column == ages_manual\n",
    "# age_equ = banking['age'] == ages_manual\n",
    "\n",
    "# # Store consistent and inconsistent data\n",
    "# consistent_ages = banking[age_equ]\n",
    "# inconsistent_ages = banking[~age_equ]\n",
    "\n",
    "# # Store consistent and inconsistent data\n",
    "# print(\"Number of inconsistent ages: \", inconsistent_ages.shape[0])"
   ]
  },
  {
   "cell_type": "code",
   "execution_count": 77,
   "metadata": {},
   "outputs": [
    {
     "name": "stdout",
     "output_type": "stream",
     "text": [
      "cust_id             0\n",
      "acct_amount         0\n",
      "acct_cur            0\n",
      "inv_amount          0\n",
      "account_opened      0\n",
      "last_transaction    0\n",
      "acct_year           0\n",
      "age                 0\n",
      "birth_date          0\n",
      "dtype: int64\n"
     ]
    },
    {
     "data": {
      "image/png": "[encoded data removed]",
      "text/plain": [
       "<Figure size 1800x720 with 2 Axes>"
      ]
     },
     "metadata": {
      "needs_background": "light"
     },
     "output_type": "display_data"
    }
   ],
   "source": [
    "import missingno as msno\n",
    "import matplotlib.pyplot as plt\n",
    "\n",
    "# Print number of missing values in banking\n",
    "print(banking.isna().sum())\n",
    "\n",
    "#Datacamp output:\n",
    "\n",
    "# <script.py> output:\n",
    "#     cust_id              0\n",
    "#     age                  0\n",
    "#     acct_amount          0\n",
    "#     inv_amount          13\n",
    "#     account_opened       0\n",
    "#     last_transaction     0\n",
    "#     dtype: int64\n",
    "\n",
    "# Visualize missingness matrix\n",
    "msno.matrix(banking)\n",
    "plt.show()\n"
   ]
  },
  {
   "cell_type": "code",
   "execution_count": 78,
   "metadata": {},
   "outputs": [
    {
     "name": "stdout",
     "output_type": "stream",
     "text": [
      "0     35500.50\n",
      "1     81921.86\n",
      "2     46412.27\n",
      "3     76563.35\n",
      "4     18669.01\n",
      "        ...   \n",
      "92    77896.86\n",
      "93    11715.24\n",
      "94    48787.47\n",
      "95     9387.87\n",
      "96    10967.69\n",
      "Name: inv_amount, Length: 97, dtype: float64\n"
     ]
    }
   ],
   "source": []
  },
  {
   "cell_type": "code",
   "execution_count": 79,
   "metadata": {},
   "outputs": [],
   "source": [
    "# Isolate missing and non missing values of inv_amount\n",
    "missing_investors = banking[banking['inv_amount'].isna()]\n",
    "investors = banking[~banking['inv_amount'].isna()]"
   ]
  },
  {
   "cell_type": "code",
   "execution_count": 80,
   "metadata": {},
   "outputs": [
    {
     "name": "stdout",
     "output_type": "stream",
     "text": [
      "cust_id             0\n",
      "acct_amount         0\n",
      "acct_cur            0\n",
      "inv_amount          0\n",
      "account_opened      0\n",
      "last_transaction    0\n",
      "acct_year           0\n",
      "age                 0\n",
      "birth_date          0\n",
      "dtype: int64\n"
     ]
    }
   ],
   "source": [
    "'''\n",
    "In this exercise, you're working with another version of the banking DataFrame \n",
    "that contains missing values for both the cust_id column and the acct_amount column.\n",
    "\n",
    "You want to produce analysis on how many unique customers the bank has, the average amount \n",
    "held by customers and more. You know that rows with missing cust_id don't really help you, \n",
    "and that on average acct_amount is usually 5 times the amount of inv_amount.\n",
    "\n",
    "In this exercise, you will drop rows of banking with missing cust_ids, and impute \n",
    "missing values of acct_amount with some domain knowledge.\n",
    "'''\n",
    "\n",
    "# Drop missing values of cust_id\n",
    "banking_fullid = banking.dropna(subset = ['cust_id'])\n",
    "\n",
    "# Compute estimated acct_amount\n",
    "acct_imp = banking_fullid['inv_amount'] * 5\n",
    "\n",
    "# Impute missing acct_amount with corresponding acct_imp\n",
    "banking_imputed = banking_fullid.fillna({'acct_amount':acct_imp})\n",
    "\n",
    "# Print number of missing values\n",
    "print(banking_imputed.isna().sum())"
   ]
  },
  {
   "cell_type": "markdown",
   "metadata": {},
   "source": [
    "## Restaurants Dataset"
   ]
  },
  {
   "cell_type": "code",
   "execution_count": 91,
   "metadata": {},
   "outputs": [
    {
     "name": "stdout",
     "output_type": "stream",
     "text": [
      "                      rest_name                  rest_addr           city  \\\n",
      "0    arnie morton  s of chicago   435 s. la cienega blv .     los angeles   \n",
      "1           art  s delicatessen       12224 ventura blvd.     studio city   \n",
      "2                     campanile       624 s. la brea ave.     los angeles   \n",
      "3                         fenix    8358 sunset blvd. west       hollywood   \n",
      "4            grill on the alley           9560 dayton way     los angeles   \n",
      "..                          ...                        ...            ...   \n",
      "331           vivande porta via         2125 fillmore st.   san francisco   \n",
      "332          vivande ristorante      670 golden gate ave.   san francisco   \n",
      "333                world wrapps         2257 chestnut st.   san francisco   \n",
      "334                     wu kong             101 spear st.   san francisco   \n",
      "335                   yank sing           427 battery st.   san francisco   \n",
      "\n",
      "          phone cuisine_type  \n",
      "0    3102461501      america  \n",
      "1    8187621221      merican  \n",
      "2    2139381447     amurican  \n",
      "3    2138486677     americen  \n",
      "4    3102760615    americann  \n",
      "..          ...          ...  \n",
      "331  4153464430      italian  \n",
      "332  4156739245      italian  \n",
      "333  4155639727     american  \n",
      "334  4159579300        asian  \n",
      "335  4155414949      asianne  \n",
      "\n",
      "[287 rows x 5 columns]\n"
     ]
    }
   ],
   "source": [
    "restaurants = pd.read_csv(\"restaurants.csv\", index_col=0)\n",
    "print(restaurants)\n",
    "\n",
    "categories_res = ['italian', 'american', 'asian'] "
   ]
  },
  {
   "cell_type": "code",
   "execution_count": 92,
   "metadata": {},
   "outputs": [
    {
     "name": "stdout",
     "output_type": "stream",
     "text": [
      "[('asian', 100), ('asiane', 91), ('asiann', 91), ('asiian', 91), ('asiaan', 91), ('asianne', 83), ('asiat', 80), ('italiann', 72), ('italiano', 72), ('italianne', 72), ('italian', 67), ('amurican', 62), ('american', 62), ('italiaan', 62), ('italiian', 62), ('itallian', 62), ('americann', 57), ('americano', 57), ('ameerican', 57), ('aamerican', 57), ('ameriican', 57), ('amerrican', 57), ('ammericann', 54), ('ameerrican', 54), ('ammereican', 54), ('america', 50), ('merican', 50), ('murican', 50), ('italien', 50), ('americen', 46), ('americin', 46), ('amerycan', 46), ('itali', 40)]\n",
      "********\n",
      "[('american', 100), ('americann', 94), ('americano', 94), ('ameerican', 94), ('aamerican', 94), ('ameriican', 94), ('amerrican', 94), ('america', 93), ('merican', 93), ('ammericann', 89), ('ameerrican', 89), ('ammereican', 89), ('amurican', 88), ('americen', 88), ('americin', 88), ('amerycan', 88), ('murican', 80), ('asian', 62), ('asiane', 57), ('asiann', 57), ('asiian', 57), ('asiaan', 57), ('italian', 53), ('asianne', 53), ('italiann', 50), ('italiano', 50), ('italiaan', 50), ('italiian', 50), ('itallian', 50), ('italianne', 47), ('asiat', 46), ('itali', 40), ('italien', 40)]\n",
      "********\n",
      "[('italian', 100), ('italiann', 93), ('italiano', 93), ('italiaan', 93), ('italiian', 93), ('itallian', 93), ('italianne', 88), ('italien', 86), ('itali', 83), ('asian', 67), ('asiane', 62), ('asiann', 62), ('asiian', 62), ('asiaan', 62), ('asianne', 57), ('asiat', 50), ('ameriican', 50), ('merican', 43), ('murican', 43), ('amurican', 40), ('american', 40), ('americin', 40), ('amerycan', 40), ('americann', 38), ('americano', 38), ('ameerican', 38), ('aamerican', 38), ('amerrican', 38), ('ammericann', 35), ('ameerrican', 35), ('ammereican', 35), ('america', 29), ('americen', 27)]\n"
     ]
    }
   ],
   "source": [
    "# Import process from fuzzywuzzy\n",
    "from fuzzywuzzy import process\n",
    "\n",
    "# Store the unique values of cuisine_type in unique_types\n",
    "unique_types = restaurants['cuisine_type'].unique()\n",
    "\n",
    "# Calculate similarity of 'asian' to all values of unique_types\n",
    "print(process.extract('asian', unique_types, limit = len(unique_types)))\n",
    "print(\"********\")\n",
    "# Calculate similarity of 'american' to all values of unique_types\n",
    "print(process.extract('american', unique_types, limit = len(unique_types)))\n",
    "print(\"********\")\n",
    "# Calculate similarity of 'italian' to all values of unique_types\n",
    "print(process.extract('italian', unique_types, limit = len(unique_types)))"
   ]
  },
  {
   "cell_type": "code",
   "execution_count": 93,
   "metadata": {},
   "outputs": [
    {
     "name": "stdout",
     "output_type": "stream",
     "text": [
      "#Question: Take a look at the output, what do you think should be the similarity cutoff point when remapping categories?\n",
      "--> 80\n"
     ]
    }
   ],
   "source": [
    "print(\"#Question: Take a look at the output, what do you think should be the similarity cutoff point when remapping categories?\\n--> 80\")"
   ]
  },
  {
   "cell_type": "code",
   "execution_count": 94,
   "metadata": {},
   "outputs": [
    {
     "name": "stdout",
     "output_type": "stream",
     "text": [
      "['america' 'merican' 'amurican' 'americen' 'americann' 'asiane' 'itali'\n",
      " 'asiann' 'murican' 'italien' 'italian' 'asiat' 'american' 'americano'\n",
      " 'italiann' 'ameerican' 'asianne' 'italiano' 'americin' 'ammericann'\n",
      " 'amerycan' 'aamerican' 'ameriican' 'italiaan' 'asiian' 'asiaan'\n",
      " 'amerrican' 'ameerrican' 'ammereican' 'asian' 'italianne' 'italiian'\n",
      " 'itallian']\n",
      "\n",
      " [('italian', 100, 11), ('italian', 100, 25), ('italian', 100, 41), ('italian', 100, 47), ('italian', 100, 49)]\n"
     ]
    }
   ],
   "source": [
    "# Inspect the unique values of the cuisine_type column\n",
    "print(restaurants['cuisine_type'].unique())\n",
    "\n",
    "# Create a list of matches, comparing 'italian' with the cuisine_type column\n",
    "matches = process.extract('italian', restaurants['cuisine_type'], limit=len(restaurants.cuisine_type))\n",
    "\n",
    "# Inspect the first 5 matches\n",
    "print(\"\\n\",matches[0:5])"
   ]
  },
  {
   "cell_type": "code",
   "execution_count": 95,
   "metadata": {},
   "outputs": [],
   "source": [
    "# Iterate through the list of matches to italian\n",
    "for match in matches:\n",
    "  # Check whether the similarity score is greater than or equal to 80\n",
    "  if match[1] >= 80:\n",
    "    # Select all rows where the cuisine_type is spelled this way, and set them to the correct cuisine\n",
    "    restaurants.loc[restaurants['cuisine_type'] == match[0]] = 'italian'"
   ]
  },
  {
   "cell_type": "code",
   "execution_count": 96,
   "metadata": {},
   "outputs": [
    {
     "name": "stdout",
     "output_type": "stream",
     "text": [
      "['america' 'merican' 'amurican' 'americen' 'americann' 'asiane' 'italian'\n",
      " 'asiann' 'murican' 'asiat' 'american' 'americano' 'ameerican' 'asianne'\n",
      " 'americin' 'ammericann' 'amerycan' 'aamerican' 'ameriican' 'asiian'\n",
      " 'asiaan' 'amerrican' 'ameerrican' 'ammereican' 'asian']\n"
     ]
    }
   ],
   "source": [
    "# Iterate through categories\n",
    "for cuisine in categories:  \n",
    "  # Create a list of matches, comparing cuisine with the cuisine_type column\n",
    "  matches = process.extract(cuisine, restaurants['cuisine_type'], limit=len(restaurants.cuisine_type))\n",
    "\n",
    "  # Iterate through the list of matches\n",
    "  for match in matches:\n",
    "     # Check whether the similarity score is greater than or equal to 80\n",
    "    if match[1] >= 80:\n",
    "      # If it is, select all rows where the cuisine_type is spelled this way, and set them to the correct cuisine\n",
    "      restaurants.loc[restaurants['cuisine_type'] == match[0]] = cuisine\n",
    "      \n",
    "# Inspect the final result\n",
    "print(restaurants['cuisine_type'].unique())"
   ]
  },
  {
   "cell_type": "code",
   "execution_count": null,
   "metadata": {},
   "outputs": [],
   "source": []
  }
 ],
 "metadata": {
  "kernelspec": {
   "display_name": "Python 3.8.10 64-bit",
   "language": "python",
   "name": "python3"
  },
  "language_info": {
   "codemirror_mode": {
    "name": "ipython",
    "version": 3
   },
   "file_extension": ".py",
   "mimetype": "text/x-python",
   "name": "python",
   "nbconvert_exporter": "python",
   "pygments_lexer": "ipython3",
   "version": "3.8.10"
  },
  "orig_nbformat": 4,
  "vscode": {
   "interpreter": {
    "hash": "916dbcbb3f70747c44a77c7bcd40155683ae19c65e1c03b4aa3499c5328201f1"
   }
  }
 },
 "nbformat": 4,
 "nbformat_minor": 2
}
